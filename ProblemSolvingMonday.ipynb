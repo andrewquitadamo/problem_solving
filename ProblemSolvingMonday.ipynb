{
 "metadata": {
  "name": "",
  "signature": "sha256:be3fdf0a84c36660188a233cd2dc9ad4cf2b953b52544c1ad534faf470db9f11"
 },
 "nbformat": 3,
 "nbformat_minor": 0,
 "worksheets": [
  {
   "cells": [
    {
     "cell_type": "markdown",
     "metadata": {},
     "source": [
      "###Rosalind Problem #1\n",
      "\n",
      "Count the instances of A,C,T, and G in a given DNA sequence"
     ]
    },
    {
     "cell_type": "code",
     "collapsed": false,
     "input": [],
     "language": "python",
     "metadata": {},
     "outputs": []
    }
   ],
   "metadata": {}
  }
 ]
}