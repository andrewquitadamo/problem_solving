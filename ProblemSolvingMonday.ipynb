{
 "metadata": {
  "name": "",
  "signature": "sha256:0bd1eaaf856fce86572799d389fd3f166f818d94240f4cba7a387c7c4003b0e3"
 },
 "nbformat": 3,
 "nbformat_minor": 0,
 "worksheets": [
  {
   "cells": [
    {
     "cell_type": "markdown",
     "metadata": {},
     "source": [
      "###Rosalind Problem #1\n",
      "\n",
      "Count the instances of A,C,T, and G in a given DNA sequence"
     ]
    },
    {
     "cell_type": "code",
     "collapsed": false,
     "input": [
      "string =\"AGCTTTTCATTCTGACTGCAACGGGCAATATGTCTCTGTGTGGATTAAAAAAAGAGTGTCTGATAGCAGC\"\n",
      "def countNuc(string):\n",
      "    a=[]\n",
      "    c=[]\n",
      "    g=[]\n",
      "    t=[]\n",
      "    for char in string:\n",
      "        if char == \"A\":\n",
      "            a.append(\"A\")\n",
      "        elif char ==\"C\":\n",
      "            c.append(\"C\")\n",
      "        elif char == \"G\":\n",
      "            g.append(\"G\")\n",
      "        elif char == \"T\":\n",
      "            t.append(\"T\")\n",
      "    nucA = len(a)\n",
      "    nucC = len(c)\n",
      "    nucG = len(g)\n",
      "    nucT = len(t)\n",
      "    return str(nucA) + \" \" +str(nucC)+\" \"+str(nucG)+\" \"+str(nucT)\n",
      "\n",
      "print countNuc(string)"
     ],
     "language": "python",
     "metadata": {},
     "outputs": [
      {
       "output_type": "stream",
       "stream": "stdout",
       "text": [
        "20 12 17 21\n"
       ]
      }
     ],
     "prompt_number": 4
    },
    {
     "cell_type": "code",
     "collapsed": false,
     "input": [
      "string = \"AGCTTTTCATTCTGACTGCAACGGGCAATATGTCTCTGTGTGGATTAAAAAAAGAGTGTCTGATAGCAGC\"\n",
      "\n",
      "def countNuc(string):\n",
      "    countA = countT =countC = countG =0\n",
      "    for char in string:\n",
      "        if char == \"A\":\n",
      "            countA +=1\n",
      "        elif char == \"T\":\n",
      "            countT +=1\n",
      "        elif char == \"C\":\n",
      "            countC +=1\n",
      "        elif char == \"G\":\n",
      "            countG +=1\n",
      "    return countA, countT, countC, countG\n",
      "\n",
      "countNuc(string)"
     ],
     "language": "python",
     "metadata": {},
     "outputs": [
      {
       "metadata": {},
       "output_type": "pyout",
       "prompt_number": 8,
       "text": [
        "(20, 21, 12, 17)"
       ]
      }
     ],
     "prompt_number": 8
    },
    {
     "cell_type": "code",
     "collapsed": false,
     "input": [
      "def countNuc3(seq):\n",
      "    counts = {'A':0,'C':0,'G':0,'T':0}\n",
      "    for char in seq:\n",
      "        counts[char]+=1\n",
      "    return str(counts['A'])+\" \" + str(counts['C'])+\" \" +str(counts['T'])+\" \" + str(counts['G'])"
     ],
     "language": "python",
     "metadata": {},
     "outputs": [],
     "prompt_number": 13
    },
    {
     "cell_type": "code",
     "collapsed": false,
     "input": [
      "countNuc3(\"AGCTTTTCATTCTGACTGCAACGGGCAATATGTCTCTGTGTGGATTAAAAAAAGAGTGTCTGATAGCAGC\")"
     ],
     "language": "python",
     "metadata": {},
     "outputs": [
      {
       "metadata": {},
       "output_type": "pyout",
       "prompt_number": 14,
       "text": [
        "'20 12 21 17'"
       ]
      }
     ],
     "prompt_number": 14
    },
    {
     "cell_type": "code",
     "collapsed": false,
     "input": [
      "DNA = \"ACGTTAGT\"\n",
      "\n",
      "def toRNA(string):\n",
      "    RNA =\"\"\n",
      "    for char in string:\n",
      "        if char ==\"T\":\n",
      "            RNA += \"U\"\n",
      "        else:\n",
      "            RNA += char\n",
      "    return RNA\n",
      "\n",
      "print toRNA(DNA)"
     ],
     "language": "python",
     "metadata": {},
     "outputs": [
      {
       "output_type": "stream",
       "stream": "stdout",
       "text": [
        "ACGUUAGU\n"
       ]
      }
     ],
     "prompt_number": 17
    },
    {
     "cell_type": "code",
     "collapsed": false,
     "input": [
      "import re\n",
      "\n",
      "def toRNA2(seq):\n",
      "    seq = re.sub(\"T\",\"U\",seq)\n",
      "    return seq"
     ],
     "language": "python",
     "metadata": {},
     "outputs": [],
     "prompt_number": 24
    },
    {
     "cell_type": "code",
     "collapsed": false,
     "input": [
      "toRNA2(\"CTACGTCCCGCGGGGGTCCGTAGAGACCAGGACCCTCAAGTCGTTTTCACACTTCCTAGGTTGACTAAAGCAGACCAAGGTCGTCCTACATATTGTACGACATCAACCAACTCGACCCGTCGAAGCATCTAATTATGTCCTGACCGACTGCCGGTTTTTGTTGGCGACTGAGACGAATAAAGAATTGTAGGTCGGAATCTCACCCCAACCCTCACCCCATAGCTCCAACTGACACACGTGCCGATCGAAACTAGCACGCGGGAGTAAATTCTCCCGGTTGGCCCATAGATGGAGAGTGTGCTAGATGCAAGAGAGGACCCTAGAAGCATTGCAGGGAGGTGGAACTAAGTTGGTCCCGAGTAGGTTATGCCTGCACGTGAGGGTCGTAGCGTACGTATGCTGACGACGGCGGAAGGGTTACGCATTAGACCGACGCTCTAAGAGAACACTCAAGACGTATAGAGCAACCGCTATGGCAGGATACTGAACATCCTTACTCACATAAAATTCGTGACAAGACTTTTGCTCCAGAAAAGTTTGGACGTTCCCATCATCCGTACTGGGTAATCACTCCTCAGTTGGCTTGGTATGGTCCCTAGAAGAGGCTATATCCAATTGGAAGCGGCAGTTGGCTATGAATACTTCAAATATCATTCAAGTAGGTATGCAAGACAATTTCTAAAATCGGTGCACCGTGTTCGTTGCAGAGCAGAATCAGCCCGTCTTAGTGTGTAGAATTAGTCCCTGTGCACTCAACGCATCAGAGACAGTAAGGTGTAATACTGATGAAATCTCGGTCCGTACGCCTATAGCCCGTTGATATACACATAAGTAATGTGTAGGCCCAACCCGGCGAGAAAGTCAGTCGACGCACCTGCTTACTACGCAACCGCAGAAGTACGGAACGCATTCCGCAGG\")"
     ],
     "language": "python",
     "metadata": {},
     "outputs": [
      {
       "metadata": {},
       "output_type": "pyout",
       "prompt_number": 32,
       "text": [
        "'CUACGUCCCGCGGGGGUCCGUAGAGACCAGGACCCUCAAGUCGUUUUCACACUUCCUAGGUUGACUAAAGCAGACCAAGGUCGUCCUACAUAUUGUACGACAUCAACCAACUCGACCCGUCGAAGCAUCUAAUUAUGUCCUGACCGACUGCCGGUUUUUGUUGGCGACUGAGACGAAUAAAGAAUUGUAGGUCGGAAUCUCACCCCAACCCUCACCCCAUAGCUCCAACUGACACACGUGCCGAUCGAAACUAGCACGCGGGAGUAAAUUCUCCCGGUUGGCCCAUAGAUGGAGAGUGUGCUAGAUGCAAGAGAGGACCCUAGAAGCAUUGCAGGGAGGUGGAACUAAGUUGGUCCCGAGUAGGUUAUGCCUGCACGUGAGGGUCGUAGCGUACGUAUGCUGACGACGGCGGAAGGGUUACGCAUUAGACCGACGCUCUAAGAGAACACUCAAGACGUAUAGAGCAACCGCUAUGGCAGGAUACUGAACAUCCUUACUCACAUAAAAUUCGUGACAAGACUUUUGCUCCAGAAAAGUUUGGACGUUCCCAUCAUCCGUACUGGGUAAUCACUCCUCAGUUGGCUUGGUAUGGUCCCUAGAAGAGGCUAUAUCCAAUUGGAAGCGGCAGUUGGCUAUGAAUACUUCAAAUAUCAUUCAAGUAGGUAUGCAAGACAAUUUCUAAAAUCGGUGCACCGUGUUCGUUGCAGAGCAGAAUCAGCCCGUCUUAGUGUGUAGAAUUAGUCCCUGUGCACUCAACGCAUCAGAGACAGUAAGGUGUAAUACUGAUGAAAUCUCGGUCCGUACGCCUAUAGCCCGUUGAUAUACACAUAAGUAAUGUGUAGGCCCAACCCGGCGAGAAAGUCAGUCGACGCACCUGCUUACUACGCAACCGCAGAAGUACGGAACGCAUUCCGCAGG'"
       ]
      }
     ],
     "prompt_number": 32
    },
    {
     "cell_type": "code",
     "collapsed": false,
     "input": [
      "1/float(2)"
     ],
     "language": "python",
     "metadata": {},
     "outputs": [
      {
       "metadata": {},
       "output_type": "pyout",
       "prompt_number": 31,
       "text": [
        "0.5"
       ]
      }
     ],
     "prompt_number": 31
    }
   ],
   "metadata": {}
  }
 ]
}