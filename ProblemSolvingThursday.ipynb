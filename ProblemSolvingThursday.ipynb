{
 "metadata": {
  "name": "",
  "signature": "sha256:99f295902d33b8f8ae4966f7095b76f58cfb10cf0e8236e1148d0ec23ece0c17"
 },
 "nbformat": 3,
 "nbformat_minor": 0,
 "worksheets": [
  {
   "cells": [
    {
     "cell_type": "markdown",
     "metadata": {},
     "source": [
      "###Rosalind Problem #1\n",
      "\n",
      "Count the instances of A,C,T, and G in a given DNA sequence"
     ]
    },
    {
     "cell_type": "code",
     "collapsed": false,
     "input": [
      "def counter(seq):\n",
      "    return str(seq.count('A'))+' '+str(seq.count('C'))+' '+str(seq.count('G'))+' ' +str(seq.count('T'))"
     ],
     "language": "python",
     "metadata": {},
     "outputs": [],
     "prompt_number": 11
    },
    {
     "cell_type": "code",
     "collapsed": false,
     "input": [
      "counter('ACTCGACTAGACTAGACAGA')"
     ],
     "language": "python",
     "metadata": {},
     "outputs": [
      {
       "metadata": {},
       "output_type": "pyout",
       "prompt_number": 13,
       "text": [
        "'8 5 4 3'"
       ]
      }
     ],
     "prompt_number": 13
    },
    {
     "cell_type": "code",
     "collapsed": false,
     "input": [
      "counter('ACTAGACATAGACG')"
     ],
     "language": "python",
     "metadata": {},
     "outputs": [
      {
       "metadata": {},
       "output_type": "pyout",
       "prompt_number": 14,
       "text": [
        "'6 3 3 2'"
       ]
      }
     ],
     "prompt_number": 14
    },
    {
     "cell_type": "code",
     "collapsed": false,
     "input": [],
     "language": "python",
     "metadata": {},
     "outputs": []
    }
   ],
   "metadata": {}
  }
 ]
}